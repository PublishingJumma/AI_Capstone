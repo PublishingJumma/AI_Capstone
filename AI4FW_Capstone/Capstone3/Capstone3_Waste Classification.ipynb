{
  "cells": [
    {
      "attachments": {},
      "cell_type": "markdown",
      "id": "aa009d6a",
      "metadata": {
        "id": "aa009d6a"
      },
      "source": [
        "### Capstone 3. Waste Classification"
      ]
    },
    {
      "cell_type": "code",
      "execution_count": null,
      "id": "LrBVSNIJlDhk",
      "metadata": {
        "colab": {
          "base_uri": "https://localhost:8080/",
          "height": 315
        },
        "id": "LrBVSNIJlDhk",
        "outputId": "bd31bd24-48a6-4026-c77f-70624a3e0864"
      },
      "outputs": [
        {
          "name": "stdout",
          "output_type": "stream",
          "text": [
            "Looking in indexes: https://pypi.org/simple, https://us-python.pkg.dev/colab-wheels/public/simple/\n",
            "Requirement already satisfied: kaggle in /usr/local/lib/python3.8/dist-packages (1.5.12)\n",
            "Requirement already satisfied: certifi in /usr/local/lib/python3.8/dist-packages (from kaggle) (2022.12.7)\n",
            "Requirement already satisfied: urllib3 in /usr/local/lib/python3.8/dist-packages (from kaggle) (1.24.3)\n",
            "Requirement already satisfied: six>=1.10 in /usr/local/lib/python3.8/dist-packages (from kaggle) (1.15.0)\n",
            "Requirement already satisfied: python-slugify in /usr/local/lib/python3.8/dist-packages (from kaggle) (7.0.0)\n",
            "Requirement already satisfied: requests in /usr/local/lib/python3.8/dist-packages (from kaggle) (2.23.0)\n",
            "Requirement already satisfied: python-dateutil in /usr/local/lib/python3.8/dist-packages (from kaggle) (2.8.2)\n",
            "Requirement already satisfied: tqdm in /usr/local/lib/python3.8/dist-packages (from kaggle) (4.64.1)\n",
            "Requirement already satisfied: text-unidecode>=1.3 in /usr/local/lib/python3.8/dist-packages (from python-slugify->kaggle) (1.3)\n",
            "Requirement already satisfied: idna<3,>=2.5 in /usr/local/lib/python3.8/dist-packages (from requests->kaggle) (2.10)\n",
            "Requirement already satisfied: chardet<4,>=3.0.2 in /usr/local/lib/python3.8/dist-packages (from requests->kaggle) (3.0.4)\n"
          ]
        },
        {
          "data": {
            "text/html": [
              "\n",
              "     <input type=\"file\" id=\"files-4bee7774-d6a9-4f99-865a-ba4f99c52711\" name=\"files[]\" multiple disabled\n",
              "        style=\"border:none\" />\n",
              "     <output id=\"result-4bee7774-d6a9-4f99-865a-ba4f99c52711\">\n",
              "      Upload widget is only available when the cell has been executed in the\n",
              "      current browser session. Please rerun this cell to enable.\n",
              "      </output>\n",
              "      <script>// Copyright 2017 Google LLC\n",
              "//\n",
              "// Licensed under the Apache License, Version 2.0 (the \"License\");\n",
              "// you may not use this file except in compliance with the License.\n",
              "// You may obtain a copy of the License at\n",
              "//\n",
              "//      http://www.apache.org/licenses/LICENSE-2.0\n",
              "//\n",
              "// Unless required by applicable law or agreed to in writing, software\n",
              "// distributed under the License is distributed on an \"AS IS\" BASIS,\n",
              "// WITHOUT WARRANTIES OR CONDITIONS OF ANY KIND, either express or implied.\n",
              "// See the License for the specific language governing permissions and\n",
              "// limitations under the License.\n",
              "\n",
              "/**\n",
              " * @fileoverview Helpers for google.colab Python module.\n",
              " */\n",
              "(function(scope) {\n",
              "function span(text, styleAttributes = {}) {\n",
              "  const element = document.createElement('span');\n",
              "  element.textContent = text;\n",
              "  for (const key of Object.keys(styleAttributes)) {\n",
              "    element.style[key] = styleAttributes[key];\n",
              "  }\n",
              "  return element;\n",
              "}\n",
              "\n",
              "// Max number of bytes which will be uploaded at a time.\n",
              "const MAX_PAYLOAD_SIZE = 100 * 1024;\n",
              "\n",
              "function _uploadFiles(inputId, outputId) {\n",
              "  const steps = uploadFilesStep(inputId, outputId);\n",
              "  const outputElement = document.getElementById(outputId);\n",
              "  // Cache steps on the outputElement to make it available for the next call\n",
              "  // to uploadFilesContinue from Python.\n",
              "  outputElement.steps = steps;\n",
              "\n",
              "  return _uploadFilesContinue(outputId);\n",
              "}\n",
              "\n",
              "// This is roughly an async generator (not supported in the browser yet),\n",
              "// where there are multiple asynchronous steps and the Python side is going\n",
              "// to poll for completion of each step.\n",
              "// This uses a Promise to block the python side on completion of each step,\n",
              "// then passes the result of the previous step as the input to the next step.\n",
              "function _uploadFilesContinue(outputId) {\n",
              "  const outputElement = document.getElementById(outputId);\n",
              "  const steps = outputElement.steps;\n",
              "\n",
              "  const next = steps.next(outputElement.lastPromiseValue);\n",
              "  return Promise.resolve(next.value.promise).then((value) => {\n",
              "    // Cache the last promise value to make it available to the next\n",
              "    // step of the generator.\n",
              "    outputElement.lastPromiseValue = value;\n",
              "    return next.value.response;\n",
              "  });\n",
              "}\n",
              "\n",
              "/**\n",
              " * Generator function which is called between each async step of the upload\n",
              " * process.\n",
              " * @param {string} inputId Element ID of the input file picker element.\n",
              " * @param {string} outputId Element ID of the output display.\n",
              " * @return {!Iterable<!Object>} Iterable of next steps.\n",
              " */\n",
              "function* uploadFilesStep(inputId, outputId) {\n",
              "  const inputElement = document.getElementById(inputId);\n",
              "  inputElement.disabled = false;\n",
              "\n",
              "  const outputElement = document.getElementById(outputId);\n",
              "  outputElement.innerHTML = '';\n",
              "\n",
              "  const pickedPromise = new Promise((resolve) => {\n",
              "    inputElement.addEventListener('change', (e) => {\n",
              "      resolve(e.target.files);\n",
              "    });\n",
              "  });\n",
              "\n",
              "  const cancel = document.createElement('button');\n",
              "  inputElement.parentElement.appendChild(cancel);\n",
              "  cancel.textContent = 'Cancel upload';\n",
              "  const cancelPromise = new Promise((resolve) => {\n",
              "    cancel.onclick = () => {\n",
              "      resolve(null);\n",
              "    };\n",
              "  });\n",
              "\n",
              "  // Wait for the user to pick the files.\n",
              "  const files = yield {\n",
              "    promise: Promise.race([pickedPromise, cancelPromise]),\n",
              "    response: {\n",
              "      action: 'starting',\n",
              "    }\n",
              "  };\n",
              "\n",
              "  cancel.remove();\n",
              "\n",
              "  // Disable the input element since further picks are not allowed.\n",
              "  inputElement.disabled = true;\n",
              "\n",
              "  if (!files) {\n",
              "    return {\n",
              "      response: {\n",
              "        action: 'complete',\n",
              "      }\n",
              "    };\n",
              "  }\n",
              "\n",
              "  for (const file of files) {\n",
              "    const li = document.createElement('li');\n",
              "    li.append(span(file.name, {fontWeight: 'bold'}));\n",
              "    li.append(span(\n",
              "        `(${file.type || 'n/a'}) - ${file.size} bytes, ` +\n",
              "        `last modified: ${\n",
              "            file.lastModifiedDate ? file.lastModifiedDate.toLocaleDateString() :\n",
              "                                    'n/a'} - `));\n",
              "    const percent = span('0% done');\n",
              "    li.appendChild(percent);\n",
              "\n",
              "    outputElement.appendChild(li);\n",
              "\n",
              "    const fileDataPromise = new Promise((resolve) => {\n",
              "      const reader = new FileReader();\n",
              "      reader.onload = (e) => {\n",
              "        resolve(e.target.result);\n",
              "      };\n",
              "      reader.readAsArrayBuffer(file);\n",
              "    });\n",
              "    // Wait for the data to be ready.\n",
              "    let fileData = yield {\n",
              "      promise: fileDataPromise,\n",
              "      response: {\n",
              "        action: 'continue',\n",
              "      }\n",
              "    };\n",
              "\n",
              "    // Use a chunked sending to avoid message size limits. See b/62115660.\n",
              "    let position = 0;\n",
              "    do {\n",
              "      const length = Math.min(fileData.byteLength - position, MAX_PAYLOAD_SIZE);\n",
              "      const chunk = new Uint8Array(fileData, position, length);\n",
              "      position += length;\n",
              "\n",
              "      const base64 = btoa(String.fromCharCode.apply(null, chunk));\n",
              "      yield {\n",
              "        response: {\n",
              "          action: 'append',\n",
              "          file: file.name,\n",
              "          data: base64,\n",
              "        },\n",
              "      };\n",
              "\n",
              "      let percentDone = fileData.byteLength === 0 ?\n",
              "          100 :\n",
              "          Math.round((position / fileData.byteLength) * 100);\n",
              "      percent.textContent = `${percentDone}% done`;\n",
              "\n",
              "    } while (position < fileData.byteLength);\n",
              "  }\n",
              "\n",
              "  // All done.\n",
              "  yield {\n",
              "    response: {\n",
              "      action: 'complete',\n",
              "    }\n",
              "  };\n",
              "}\n",
              "\n",
              "scope.google = scope.google || {};\n",
              "scope.google.colab = scope.google.colab || {};\n",
              "scope.google.colab._files = {\n",
              "  _uploadFiles,\n",
              "  _uploadFilesContinue,\n",
              "};\n",
              "})(self);\n",
              "</script> "
            ],
            "text/plain": [
              "<IPython.core.display.HTML object>"
            ]
          },
          "metadata": {},
          "output_type": "display_data"
        },
        {
          "name": "stdout",
          "output_type": "stream",
          "text": [
            "Saving kaggle.json to kaggle.json\n"
          ]
        },
        {
          "data": {
            "text/plain": [
              "{'kaggle.json': b'{\"username\":\"daongandmimi\",\"key\":\"13ecbf24f8d3867b9ac53b482e2529e4\"}'}"
            ]
          },
          "execution_count": 1,
          "metadata": {},
          "output_type": "execute_result"
        }
      ],
      "source": [
        "!pip install kaggle\n",
        "from google.colab import files\n",
        "files.upload()"
      ]
    },
    {
      "attachments": {},
      "cell_type": "markdown",
      "id": "c08dccea",
      "metadata": {},
      "source": []
    },
    {
      "cell_type": "code",
      "execution_count": null,
      "id": "q4gJtk6ilDYl",
      "metadata": {
        "colab": {
          "base_uri": "https://localhost:8080/"
        },
        "id": "q4gJtk6ilDYl",
        "outputId": "4b90b6f8-9a22-4956-c82e-8afd6276b6ae"
      },
      "outputs": [
        {
          "name": "stdout",
          "output_type": "stream",
          "text": [
            "kaggle.json\n"
          ]
        }
      ],
      "source": [
        "ls -1ha kaggle.json"
      ]
    },
    {
      "cell_type": "code",
      "execution_count": null,
      "id": "1nJVNAWblC3l",
      "metadata": {
        "id": "1nJVNAWblC3l"
      },
      "outputs": [],
      "source": [
        "!mkdir -p ~/.kaggle\n",
        "!cp kaggle.json ~/.kaggle/\n",
        "# Permission Warning 방지\n",
        "!chmod 600 ~/.kaggle/kaggle.json"
      ]
    },
    {
      "cell_type": "code",
      "execution_count": null,
      "id": "uU1C4F9plCns",
      "metadata": {
        "colab": {
          "base_uri": "https://localhost:8080/"
        },
        "id": "uU1C4F9plCns",
        "outputId": "168c0efa-1336-4ca0-f8af-c4a2a4ca65b0"
      },
      "outputs": [
        {
          "name": "stdout",
          "output_type": "stream",
          "text": [
            "Downloading waste-classification-data.zip to /content\n",
            "100% 427M/427M [00:19<00:00, 23.5MB/s]\n",
            "100% 427M/427M [00:19<00:00, 23.0MB/s]\n"
          ]
        }
      ],
      "source": [
        "!kaggle datasets download -d techsash/waste-classification-data"
      ]
    },
    {
      "cell_type": "code",
      "execution_count": null,
      "id": "BC29o-qmlYJm",
      "metadata": {
        "colab": {
          "base_uri": "https://localhost:8080/"
        },
        "id": "BC29o-qmlYJm",
        "outputId": "3a2d43df-3129-4d03-f1bb-a167db5b0cf7"
      },
      "outputs": [
        {
          "data": {
            "text/plain": [
              "[]"
            ]
          },
          "execution_count": 5,
          "metadata": {},
          "output_type": "execute_result"
        }
      ],
      "source": [
        "!!unzip -qq \"/content/waste-classification-data.zip\""
      ]
    },
    {
      "attachments": {},
      "cell_type": "markdown",
      "id": "503e0acb",
      "metadata": {
        "id": "503e0acb"
      },
      "source": [
        " #### <span>Import Libraries</span>"
      ]
    },
    {
      "cell_type": "code",
      "execution_count": null,
      "id": "8xOfs99ENqX-",
      "metadata": {
        "id": "8xOfs99ENqX-"
      },
      "outputs": [],
      "source": []
    },
    {
      "cell_type": "code",
      "execution_count": null,
      "id": "1e1e8ce6",
      "metadata": {
        "id": "1e1e8ce6"
      },
      "outputs": [],
      "source": [
        "import numpy as np    # 선형 대수 지원 라이브러리\n",
        "import pandas as pd   # 데이터 처리, CSV 파일 I/O(예: pd.read_csv)\n",
        "import matplotlib.pyplot as plt\n",
        "import seaborn as sns\n",
        "import keras\n",
        "from keras.models import Sequential\n",
        "from keras.layers import Dense, Conv2D , MaxPool2D , Flatten , Dropout , BatchNormalization\n",
        "from keras.preprocessing.image import ImageDataGenerator\n",
        "from sklearn.model_selection import train_test_split\n",
        "from sklearn.metrics import classification_report,confusion_matrix\n",
        "from keras.callbacks import ReduceLROnPlateau # pip install callbacks\n",
        "import cv2 # pip install opencv-python\n",
        "import os\n",
        "\n",
        "import tensorflow as tf \n",
        "import tqdm\n",
        "import random"
      ]
    },
    {
      "cell_type": "code",
      "execution_count": null,
      "id": "cc8628e9",
      "metadata": {
        "id": "cc8628e9"
      },
      "outputs": [],
      "source": [
        "labels = ['O', 'R']\n",
        "img_size = 150\n",
        "def get_training_data(data_dir):\n",
        "    data = [] \n",
        "    for label in labels: \n",
        "        path = os.path.join(data_dir, label)\n",
        "        class_num = labels.index(label)\n",
        "        for img in os.listdir(path):\n",
        "            try:\n",
        "                img_arr = cv2.imread(os.path.join(path, img), cv2.IMREAD_GRAYSCALE)\n",
        "                resized_arr = cv2.resize(img_arr, (img_size, img_size)) # 원하는 크기로 이미지 크기 변경\n",
        "                data.append([resized_arr, class_num])\n",
        "            except Exception as e:\n",
        "                print(e)\n",
        "    return np.array(data)"
      ]
    },
    {
      "attachments": {},
      "cell_type": "markdown",
      "id": "1d7f9fa7",
      "metadata": {
        "id": "1d7f9fa7"
      },
      "source": [
        "### <span style=\"color:#BF1E96\">Dataset 불러오기</span>"
      ]
    },
    {
      "cell_type": "code",
      "execution_count": null,
      "id": "13f91e5a",
      "metadata": {
        "colab": {
          "base_uri": "https://localhost:8080/"
        },
        "id": "13f91e5a",
        "outputId": "9cb6ce75-b92d-4dea-a510-26f112565b48"
      },
      "outputs": [
        {
          "name": "stderr",
          "output_type": "stream",
          "text": [
            "<ipython-input-7-43a741b2fb12>:15: VisibleDeprecationWarning: Creating an ndarray from ragged nested sequences (which is a list-or-tuple of lists-or-tuples-or ndarrays with different lengths or shapes) is deprecated. If you meant to do this, you must specify 'dtype=object' when creating the ndarray.\n",
            "  return np.array(data)\n"
          ]
        }
      ],
      "source": [
        "train = get_training_data('/content/DATASET/TRAIN')\n",
        "test = get_training_data('/content/DATASET/TEST')"
      ]
    },
    {
      "attachments": {},
      "cell_type": "markdown",
      "id": "637f1ffb",
      "metadata": {
        "id": "637f1ffb"
      },
      "source": [
        "### <span style=\"color:#BF1E96\">데이터 시각화</span>"
      ]
    },
    {
      "cell_type": "code",
      "execution_count": null,
      "id": "42ac966b",
      "metadata": {
        "colab": {
          "base_uri": "https://localhost:8080/",
          "height": 349
        },
        "id": "42ac966b",
        "outputId": "31664e41-8cbd-4ab9-c695-acff6ffce6e2"
      },
      "outputs": [
        {
          "name": "stderr",
          "output_type": "stream",
          "text": [
            "/usr/local/lib/python3.8/dist-packages/seaborn/_decorators.py:36: FutureWarning: Pass the following variable as a keyword arg: x. From version 0.12, the only valid positional argument will be `data`, and passing other arguments without an explicit keyword will result in an error or misinterpretation.\n",
            "  warnings.warn(\n"
          ]
        },
        {
          "data": {
            "text/plain": [
              "<matplotlib.axes._subplots.AxesSubplot at 0x7fc29d34ae50>"
            ]
          },
          "execution_count": 9,
          "metadata": {},
          "output_type": "execute_result"
        },
        {
          "data": {
            "image/png": "[encoded data removed]",
            "text/plain": [
              "<Figure size 360x288 with 1 Axes>"
            ]
          },
          "metadata": {
            "needs_background": "light"
          },
          "output_type": "display_data"
        }
      ],
      "source": [
        "l = []\n",
        "for i in train:\n",
        "    if(i[1] == 0):\n",
        "        l.append(\"O\")\n",
        "    else:\n",
        "        l.append(\"R\")\n",
        "        \n",
        "plt.figure(figsize=(5,4))\n",
        "sns.set_style('darkgrid')\n",
        "sns.set_context(\"poster\", font_scale = .5, rc={\"grid.linewidth\": 2})\n",
        "sns.countplot(l, palette='Set3')   "
      ]
    },
    {
      "attachments": {},
      "cell_type": "markdown",
      "id": "6629ef34",
      "metadata": {
        "id": "6629ef34"
      },
      "source": [
        "### <span style=\"color:#BF1E96\">데이터 전처리</span>"
      ]
    },
    {
      "attachments": {},
      "cell_type": "markdown",
      "id": "e3dcf58d",
      "metadata": {
        "id": "e3dcf58d"
      },
      "source": [
        "#### 이미지 확인"
      ]
    },
    {
      "cell_type": "code",
      "execution_count": null,
      "id": "70276e76",
      "metadata": {
        "colab": {
          "base_uri": "https://localhost:8080/",
          "height": 363
        },
        "id": "70276e76",
        "outputId": "a919ad6d-0fba-4f6f-e790-284d33c21422"
      },
      "outputs": [
        {
          "data": {
            "text/plain": [
              "Text(0.5, 1.0, 'R')"
            ]
          },
          "execution_count": 10,
          "metadata": {},
          "output_type": "execute_result"
        },
        {
          "data": {
            "image/png": "[encoded data removed]",
            "text/plain": [
              "<Figure size 144x144 with 1 Axes>"
            ]
          },
          "metadata": {},
          "output_type": "display_data"
        },
        {
          "data": {
            "image/png": "[encoded data removed]",
            "text/plain": [
              "<Figure size 144x144 with 1 Axes>"
            ]
          },
          "metadata": {},
          "output_type": "display_data"
        }
      ],
      "source": [
        "plt.figure(figsize = (2,2))\n",
        "plt.imshow(train[0][0], cmap='gray')\n",
        "plt.title(labels[train[0][1]])\n",
        "\n",
        "plt.figure(figsize = (2,2))\n",
        "plt.imshow(train[-1][0], cmap='gray')\n",
        "plt.title(labels[train[-1][1]])"
      ]
    },
    {
      "cell_type": "code",
      "execution_count": null,
      "id": "949d9661",
      "metadata": {
        "id": "949d9661"
      },
      "outputs": [],
      "source": [
        "x_train = []\n",
        "y_train = []\n",
        "\n",
        "x_test = []\n",
        "y_test = []\n",
        "\n",
        "for feature, label in train:\n",
        "    x_train.append(feature)\n",
        "    y_train.append(label)\n",
        "\n",
        "for feature, label in test:\n",
        "    x_test.append(feature)\n",
        "    y_test.append(label)"
      ]
    },
    {
      "attachments": {},
      "cell_type": "markdown",
      "id": "235177b0",
      "metadata": {
        "id": "235177b0"
      },
      "source": [
        "#### 데이터 정규화"
      ]
    },
    {
      "cell_type": "code",
      "execution_count": null,
      "id": "b27803cb",
      "metadata": {
        "id": "b27803cb"
      },
      "outputs": [],
      "source": [
        "x_train = np.array(x_train) / 255\n",
        "x_test = np.array(x_test) / 255"
      ]
    },
    {
      "attachments": {},
      "cell_type": "markdown",
      "id": "cae396c5",
      "metadata": {
        "id": "cae396c5"
      },
      "source": [
        "#### 이미지 크기 조정"
      ]
    },
    {
      "cell_type": "code",
      "execution_count": null,
      "id": "921f82e0",
      "metadata": {
        "id": "921f82e0"
      },
      "outputs": [],
      "source": [
        "x_train = x_train.reshape(-1, img_size, img_size, 1) # (None,224,224,1) 형태로 reshape\n",
        "y_train = np.array(y_train)\n",
        "\n",
        "x_test = x_test.reshape(-1, img_size, img_size, 1) # (None,224,224,1) 형태로 reshape\n",
        "y_test = np.array(y_test)"
      ]
    },
    {
      "attachments": {},
      "cell_type": "markdown",
      "id": "f7dccaa1",
      "metadata": {
        "id": "f7dccaa1"
      },
      "source": [
        "#### 훈련 데이터 이미지 개수 확인"
      ]
    },
    {
      "cell_type": "code",
      "execution_count": null,
      "id": "e6c9e0d5",
      "metadata": {
        "colab": {
          "base_uri": "https://localhost:8080/"
        },
        "id": "e6c9e0d5",
        "outputId": "41aafa0b-a1d1-4dfb-dd96-e033bf2efd2d"
      },
      "outputs": [
        {
          "name": "stdout",
          "output_type": "stream",
          "text": [
            "Num training images:  22564\n"
          ]
        }
      ],
      "source": [
        "print(\"Num training images: \", len(train))"
      ]
    },
    {
      "cell_type": "code",
      "execution_count": null,
      "id": "1451b407",
      "metadata": {
        "colab": {
          "base_uri": "https://localhost:8080/"
        },
        "id": "1451b407",
        "outputId": "22c3833e-d889-482a-87f9-4c5a3b68f366"
      },
      "outputs": [
        {
          "name": "stdout",
          "output_type": "stream",
          "text": [
            "organic images count: 12565\n",
            "recyclable images count: 9999\n"
          ]
        }
      ],
      "source": [
        "train_c_dir = '/content/DATASET/TRAIN/O'\n",
        "train_uc_dir = '/content/DATASET/TRAIN/R'\n",
        "\n",
        "def get_files_count(folder_path):\n",
        "    dirListing = os.listdir(folder_path)\n",
        "    return len(dirListing)\n",
        "\n",
        "print(\"organic images count:\", get_files_count(train_c_dir))\n",
        "print(\"recyclable images count:\", get_files_count(train_uc_dir))\n"
      ]
    },
    {
      "attachments": {},
      "cell_type": "markdown",
      "id": "8e9d5714",
      "metadata": {
        "id": "8e9d5714"
      },
      "source": [
        "### <span style=\"color:#BF1E96\">과적합 방지를 위해 데이터 확대</span>"
      ]
    },
    {
      "cell_type": "code",
      "execution_count": null,
      "id": "03e13c4d",
      "metadata": {
        "id": "03e13c4d"
      },
      "outputs": [],
      "source": [
        "# 과적합을 방지하고 데이터 세트의 불균형을 처리하기 위한 데이터 확대\n",
        "\n",
        "datagen = ImageDataGenerator(\n",
        "        featurewise_center=False,              # 데이터셋에 대해 입력 평균을 0으로 설정\n",
        "        samplewise_center=False,               # 각 샘플 평균을 0으로 설정\n",
        "        featurewise_std_normalization=False,   # 데이터 세트의 표준으로 입력 나눕니다.\n",
        "        samplewise_std_normalization=False,    # 각 입력을 std로 나눕니다.\n",
        "        width_shift_range=0.1,                 # 이미지를 가로로 무작위로 이동(전체 너비의 일부)\n",
        "        height_shift_range=0.1) \n",
        "\n",
        "\n",
        "datagen.fit(x_train)"
      ]
    },
    {
      "attachments": {},
      "cell_type": "markdown",
      "id": "ccd310dc",
      "metadata": {
        "id": "ccd310dc"
      },
      "source": [
        "### <span style=\"color:#BF1E96\">모델 훈련</span>"
      ]
    },
    {
      "attachments": {},
      "cell_type": "markdown",
      "id": "d68c160d",
      "metadata": {
        "id": "d68c160d"
      },
      "source": [
        "훈련 데이터(X_train, y_train)로 선언한 Sequential 모델(변수명 model)을 이용하여 학습(fit)하고 학습 과정을 histroy 에 저장하기"
      ]
    },
    {
      "cell_type": "code",
      "execution_count": null,
      "id": "d0848e74",
      "metadata": {
        "id": "d0848e74"
      },
      "outputs": [],
      "source": [
        "model = Sequential() #Seqeuntial모델 오브젝트\n",
        "\n",
        "model.add(Conv2D(32 , (3,3) , strides = 1 , padding = 'same' , activation = 'relu' , input_shape = (150,150,1)))\n",
        "model.add(BatchNormalization())\n",
        "model.add(MaxPool2D((2,2) , strides = 2 , padding = 'same'))\n",
        "\n",
        "model.add(Conv2D(64 , (3,3) , strides = 1 , padding = 'same' , activation = 'relu'))\n",
        "model.add(Dropout(0.1))\n",
        "model.add(BatchNormalization())\n",
        "model.add(MaxPool2D((2,2) , strides = 2 , padding = 'same'))\n",
        "\n",
        "model.add(Conv2D(64 , (3,3) , strides = 1 , padding = 'same' , activation = 'relu'))\n",
        "model.add(BatchNormalization())\n",
        "model.add(MaxPool2D((2,2) , strides = 2 , padding = 'same'))\n",
        "\n",
        "model.add(Conv2D(128 , (3,3) , strides = 1 , padding = 'same' , activation = 'relu'))\n",
        "model.add(Dropout(0.2))\n",
        "model.add(BatchNormalization())\n",
        "model.add(MaxPool2D((2,2) , strides = 2 , padding = 'same'))\n",
        "\n",
        "model.add(Conv2D(256 , (3,3) , strides = 1 , padding = 'same' , activation = 'relu'))\n",
        "model.add(Dropout(0.2))\n",
        "model.add(BatchNormalization())\n",
        "model.add(MaxPool2D((2,2) , strides = 2 , padding = 'same'))\n",
        "\n",
        "model.add(Flatten())\n",
        "model.add(Dense(units = 128 , activation = 'relu'))\n",
        "model.add(Dropout(0.2))\n",
        "model.add(Dense(units = 1 , activation = 'sigmoid'))\n",
        "\n"
      ]
    },
    {
      "attachments": {},
      "cell_type": "markdown",
      "id": "7680ce34",
      "metadata": {
        "id": "7680ce34"
      },
      "source": [
        "- 모델 확인"
      ]
    },
    {
      "cell_type": "code",
      "execution_count": null,
      "id": "7ab2acbd",
      "metadata": {
        "colab": {
          "base_uri": "https://localhost:8080/"
        },
        "id": "7ab2acbd",
        "outputId": "018a2736-e2b1-49e9-8c24-ad8eab06775f"
      },
      "outputs": [
        {
          "name": "stdout",
          "output_type": "stream",
          "text": [
            "Model: \"sequential\"\n",
            "_________________________________________________________________\n",
            " Layer (type)                Output Shape              Param #   \n",
            "=================================================================\n",
            " conv2d (Conv2D)             (None, 150, 150, 32)      320       \n",
            "                                                                 \n",
            " batch_normalization (BatchN  (None, 150, 150, 32)     128       \n",
            " ormalization)                                                   \n",
            "                                                                 \n",
            " max_pooling2d (MaxPooling2D  (None, 75, 75, 32)       0         \n",
            " )                                                               \n",
            "                                                                 \n",
            " conv2d_1 (Conv2D)           (None, 75, 75, 64)        18496     \n",
            "                                                                 \n",
            " dropout (Dropout)           (None, 75, 75, 64)        0         \n",
            "                                                                 \n",
            " batch_normalization_1 (Batc  (None, 75, 75, 64)       256       \n",
            " hNormalization)                                                 \n",
            "                                                                 \n",
            " max_pooling2d_1 (MaxPooling  (None, 38, 38, 64)       0         \n",
            " 2D)                                                             \n",
            "                                                                 \n",
            " conv2d_2 (Conv2D)           (None, 38, 38, 64)        36928     \n",
            "                                                                 \n",
            " batch_normalization_2 (Batc  (None, 38, 38, 64)       256       \n",
            " hNormalization)                                                 \n",
            "                                                                 \n",
            " max_pooling2d_2 (MaxPooling  (None, 19, 19, 64)       0         \n",
            " 2D)                                                             \n",
            "                                                                 \n",
            " conv2d_3 (Conv2D)           (None, 19, 19, 128)       73856     \n",
            "                                                                 \n",
            " dropout_1 (Dropout)         (None, 19, 19, 128)       0         \n",
            "                                                                 \n",
            " batch_normalization_3 (Batc  (None, 19, 19, 128)      512       \n",
            " hNormalization)                                                 \n",
            "                                                                 \n",
            " max_pooling2d_3 (MaxPooling  (None, 10, 10, 128)      0         \n",
            " 2D)                                                             \n",
            "                                                                 \n",
            " conv2d_4 (Conv2D)           (None, 10, 10, 256)       295168    \n",
            "                                                                 \n",
            " dropout_2 (Dropout)         (None, 10, 10, 256)       0         \n",
            "                                                                 \n",
            " batch_normalization_4 (Batc  (None, 10, 10, 256)      1024      \n",
            " hNormalization)                                                 \n",
            "                                                                 \n",
            " max_pooling2d_4 (MaxPooling  (None, 5, 5, 256)        0         \n",
            " 2D)                                                             \n",
            "                                                                 \n",
            " flatten (Flatten)           (None, 6400)              0         \n",
            "                                                                 \n",
            " dense (Dense)               (None, 128)               819328    \n",
            "                                                                 \n",
            " dropout_3 (Dropout)         (None, 128)               0         \n",
            "                                                                 \n",
            " dense_1 (Dense)             (None, 1)                 129       \n",
            "                                                                 \n",
            "=================================================================\n",
            "Total params: 1,246,401\n",
            "Trainable params: 1,245,313\n",
            "Non-trainable params: 1,088\n",
            "_________________________________________________________________\n"
          ]
        }
      ],
      "source": [
        "model.summary()"
      ]
    },
    {
      "attachments": {},
      "cell_type": "markdown",
      "id": "060acc29",
      "metadata": {
        "id": "060acc29"
      },
      "source": [
        "- 모델 컴파일"
      ]
    },
    {
      "cell_type": "code",
      "execution_count": null,
      "id": "3a4b50b0",
      "metadata": {
        "id": "3a4b50b0"
      },
      "outputs": [],
      "source": [
        "model.compile(optimizer = \"rmsprop\" , loss = 'binary_crossentropy' , metrics = ['accuracy'])"
      ]
    },
    {
      "attachments": {},
      "cell_type": "markdown",
      "id": "d0ce202c",
      "metadata": {
        "id": "d0ce202c"
      },
      "source": [
        "- 학습률 조정(ReduceLROnPlateau)"
      ]
    },
    {
      "attachments": {},
      "cell_type": "markdown",
      "id": "nhxRfs3kKHS2",
      "metadata": {
        "id": "nhxRfs3kKHS2"
      },
      "source": []
    },
    {
      "cell_type": "code",
      "execution_count": null,
      "id": "c8097592",
      "metadata": {
        "id": "c8097592"
      },
      "outputs": [],
      "source": [
        "learning_rate_reduction = ReduceLROnPlateau(monitor='accuracy', patience = 3, verbose=1,factor=0.3, min_lr=0.001)"
      ]
    },
    {
      "attachments": {},
      "cell_type": "markdown",
      "id": "e63c247d",
      "metadata": {
        "id": "e63c247d"
      },
      "source": [
        "- 모델 학습, 학습 과정 histroy변수에 저장"
      ]
    },
    {
      "cell_type": "code",
      "execution_count": null,
      "id": "26a0076f",
      "metadata": {
        "colab": {
          "base_uri": "https://localhost:8080/"
        },
        "id": "26a0076f",
        "outputId": "21549210-ab15-4fd6-b9dd-3fac01783bd8"
      },
      "outputs": [
        {
          "name": "stdout",
          "output_type": "stream",
          "text": [
            "Epoch 1/12\n",
            "941/941 [==============================] - 66s 57ms/step - loss: 0.6219 - accuracy: 0.7273 - lr: 0.0010\n",
            "Epoch 2/12\n",
            "941/941 [==============================] - 44s 47ms/step - loss: 0.4950 - accuracy: 0.7854 - lr: 0.0010\n",
            "Epoch 3/12\n",
            "941/941 [==============================] - 45s 48ms/step - loss: 0.4562 - accuracy: 0.8061 - lr: 0.0010\n",
            "Epoch 4/12\n",
            "941/941 [==============================] - 44s 46ms/step - loss: 0.4364 - accuracy: 0.8175 - lr: 0.0010\n",
            "Epoch 5/12\n",
            "941/941 [==============================] - 44s 46ms/step - loss: 0.4225 - accuracy: 0.8252 - lr: 0.0010\n",
            "Epoch 6/12\n",
            "941/941 [==============================] - 44s 46ms/step - loss: 0.4107 - accuracy: 0.8291 - lr: 0.0010\n",
            "Epoch 7/12\n",
            "941/941 [==============================] - 45s 48ms/step - loss: 0.3977 - accuracy: 0.8388 - lr: 0.0010\n",
            "Epoch 8/12\n",
            "941/941 [==============================] - 43s 46ms/step - loss: 0.3873 - accuracy: 0.8403 - lr: 0.0010\n",
            "Epoch 9/12\n",
            "941/941 [==============================] - 43s 46ms/step - loss: 0.3829 - accuracy: 0.8432 - lr: 0.0010\n",
            "Epoch 10/12\n",
            "941/941 [==============================] - 44s 47ms/step - loss: 0.3753 - accuracy: 0.8470 - lr: 0.0010\n",
            "Epoch 11/12\n",
            "941/941 [==============================] - 44s 46ms/step - loss: 0.3643 - accuracy: 0.8536 - lr: 0.0010\n",
            "Epoch 12/12\n",
            "941/941 [==============================] - 43s 46ms/step - loss: 0.3568 - accuracy: 0.8551 - lr: 0.0010\n"
          ]
        }
      ],
      "source": [
        "hist = model.fit(datagen.flow(x_train,y_train, batch_size = 24) ,epochs = 12 ,callbacks = [learning_rate_reduction])"
      ]
    },
    {
      "cell_type": "code",
      "execution_count": null,
      "id": "ef3ff68f",
      "metadata": {
        "colab": {
          "base_uri": "https://localhost:8080/",
          "height": 311
        },
        "id": "ef3ff68f",
        "outputId": "662e2a1b-31ab-4119-82ef-96b72eb79da3"
      },
      "outputs": [
        {
          "data": {
            "text/plain": [
              "<Figure size 360x288 with 0 Axes>"
            ]
          },
          "metadata": {},
          "output_type": "display_data"
        },
        {
          "data": {
            "image/png": "[encoded data removed]",
            "text/plain": [
              "<Figure size 432x288 with 2 Axes>"
            ]
          },
          "metadata": {},
          "output_type": "display_data"
        }
      ],
      "source": [
        "# 모델 학습과정 표시하기\n",
        "import matplotlib.pyplot as plt\n",
        "\n",
        "plt.figure(figsize=(5,4))\n",
        "fig, loss_ax = plt.subplots()\n",
        "acc_ax = loss_ax.twinx()\n",
        "\n",
        "loss_ax.plot(hist.history['loss'], 'y', label = 'train loss')\n",
        "\n",
        "acc_ax.plot(hist.history['accuracy'], 'b', label = 'train accuracy')\n",
        "\n",
        "loss_ax.set_xlabel('epoch')\n",
        "loss_ax.set_ylabel('loss')\n",
        "acc_ax.set_ylabel('accuracy')\n",
        "\n",
        "loss_ax.legend(loc = 'upper left')\n",
        "acc_ax.legend(loc = 'lower left')\n",
        "\n",
        "plt.show()"
      ]
    },
    {
      "attachments": {},
      "cell_type": "markdown",
      "id": "be84474a",
      "metadata": {
        "id": "be84474a"
      },
      "source": [
        "- 학습에서 얻은 모델을 test데이터로 평가"
      ]
    },
    {
      "cell_type": "code",
      "execution_count": null,
      "id": "a1ee8fa8",
      "metadata": {
        "colab": {
          "base_uri": "https://localhost:8080/"
        },
        "id": "a1ee8fa8",
        "outputId": "deae9d45-d295-4a56-e4be-91745b63321e"
      },
      "outputs": [
        {
          "name": "stdout",
          "output_type": "stream",
          "text": [
            "79/79 - 2s - loss: 0.4814 - accuracy: 0.7859 - 2s/epoch - 20ms/step\n",
            "Loss of the model is -  0.48141369223594666\n",
            "79/79 - 1s - loss: 0.4814 - accuracy: 0.7859 - 853ms/epoch - 11ms/step\n",
            "Accuracy of the model is -  78.59132289886475 %\n"
          ]
        }
      ],
      "source": [
        "print(\"Loss of the model is - \" , model.evaluate(x_test,y_test, verbose=2)[0])\n",
        "print(\"Accuracy of the model is - \" , model.evaluate(x_test,y_test, verbose=2)[1]*100 , \"%\")"
      ]
    },
    {
      "attachments": {},
      "cell_type": "markdown",
      "id": "n1pdHefzGUDW",
      "metadata": {
        "id": "n1pdHefzGUDW"
      },
      "source": []
    },
    {
      "attachments": {},
      "cell_type": "markdown",
      "id": "10cba898",
      "metadata": {
        "id": "10cba898"
      },
      "source": [
        "### <span style=\"color:#BF1E96\">훈련된 모델 분석</span>"
      ]
    },
    {
      "cell_type": "code",
      "execution_count": null,
      "id": "0aeed2a9",
      "metadata": {
        "colab": {
          "base_uri": "https://localhost:8080/",
          "height": 361
        },
        "id": "0aeed2a9",
        "outputId": "ae3eeff4-49cf-4714-b8a0-f817f51efac2"
      },
      "outputs": [
        {
          "data": {
            "image/png": "[encoded data removed]",
            "text/plain": [
              "<Figure size 720x360 with 2 Axes>"
            ]
          },
          "metadata": {},
          "output_type": "display_data"
        }
      ],
      "source": [
        "epochs = [i for i in range(12)]\n",
        "fig , ax = plt.subplots(1,2)\n",
        "train_acc = hist.history['accuracy']\n",
        "train_loss = hist.history['loss']\n",
        "\n",
        "fig.set_size_inches(10,5)\n",
        "\n",
        "ax[0].plot(epochs , train_acc , 'go-' , label = 'Training Accuracy')\n",
        "ax[0].set_title('Training Accuracy')\n",
        "ax[0].legend()\n",
        "ax[0].set_xlabel(\"Epochs\") \n",
        "ax[0].set_ylabel(\"Accuracy\")\n",
        "\n",
        "ax[1].plot(epochs , train_loss , 'g-o' , label = 'Training Loss')\n",
        "ax[1].set_title('Training Loss')\n",
        "ax[1].legend()\n",
        "ax[1].set_xlabel(\"Epochs\")\n",
        "ax[1].set_ylabel(\"Training\")\n",
        "plt.show()"
      ]
    },
    {
      "cell_type": "code",
      "execution_count": null,
      "id": "119b35df",
      "metadata": {
        "colab": {
          "base_uri": "https://localhost:8080/"
        },
        "id": "119b35df",
        "outputId": "e340342e-018c-453d-b449-94d902429851"
      },
      "outputs": [
        {
          "name": "stdout",
          "output_type": "stream",
          "text": [
            "79/79 [==============================] - 1s 12ms/step\n"
          ]
        },
        {
          "data": {
            "text/plain": [
              "array([0, 0, 0, 0, 0, 1, 0, 0, 0, 0, 0, 0, 1, 0, 0], dtype=int32)"
            ]
          },
          "execution_count": 25,
          "metadata": {},
          "output_type": "execute_result"
        }
      ],
      "source": [
        "predicted = (model.predict(x_test) > 0.5).astype(\"int32\")\n",
        "predictions = predicted.reshape(1,-1)[0]\n",
        "\n",
        "predictions[:15]\n"
      ]
    },
    {
      "cell_type": "code",
      "execution_count": null,
      "id": "WEujkz0xp0k0",
      "metadata": {
        "colab": {
          "base_uri": "https://localhost:8080/"
        },
        "id": "WEujkz0xp0k0",
        "outputId": "55fc4204-b381-45f2-e5f2-954f889f1021"
      },
      "outputs": [
        {
          "name": "stdout",
          "output_type": "stream",
          "text": [
            "                      precision    recall  f1-score   support\n",
            "\n",
            "   organic (Class 0)       0.92      0.68      0.78      1401\n",
            "recyclable (Class 1)       0.69      0.92      0.79      1112\n",
            "\n",
            "            accuracy                           0.79      2513\n",
            "           macro avg       0.81      0.80      0.79      2513\n",
            "        weighted avg       0.82      0.79      0.78      2513\n",
            "\n"
          ]
        }
      ],
      "source": [
        "print(classification_report(y_test, predictions, target_names = ['organic (Class 0)','recyclable (Class 1)']))"
      ]
    },
    {
      "cell_type": "code",
      "execution_count": null,
      "id": "wkkY0oRlzoTi",
      "metadata": {
        "colab": {
          "base_uri": "https://localhost:8080/"
        },
        "id": "wkkY0oRlzoTi",
        "outputId": "759e409f-0e43-44ab-b839-25a0e7905914"
      },
      "outputs": [
        {
          "data": {
            "text/plain": [
              "array([[ 947,  454],\n",
              "       [  84, 1028]])"
            ]
          },
          "execution_count": 27,
          "metadata": {},
          "output_type": "execute_result"
        }
      ],
      "source": [
        "cm = confusion_matrix(y_test,predictions)\n",
        "cm"
      ]
    },
    {
      "cell_type": "code",
      "execution_count": null,
      "id": "0rj-vPlVzoW6",
      "metadata": {
        "id": "0rj-vPlVzoW6"
      },
      "outputs": [],
      "source": [
        "cm = pd.DataFrame(cm , index = ['0','1'] , columns = ['0','1'])"
      ]
    },
    {
      "cell_type": "code",
      "execution_count": null,
      "id": "LOjJwepPzoZq",
      "metadata": {
        "colab": {
          "base_uri": "https://localhost:8080/",
          "height": 509
        },
        "id": "LOjJwepPzoZq",
        "outputId": "edc45462-1ee2-4bc2-e5a9-61c04dac6cd7"
      },
      "outputs": [
        {
          "data": {
            "text/plain": [
              "<matplotlib.axes._subplots.AxesSubplot at 0x7fc290148b20>"
            ]
          },
          "execution_count": 29,
          "metadata": {},
          "output_type": "execute_result"
        },
        {
          "data": {
            "image/png": "[encoded data removed]",
            "text/plain": [
              "<Figure size 576x576 with 2 Axes>"
            ]
          },
          "metadata": {},
          "output_type": "display_data"
        }
      ],
      "source": [
        "plt.figure(figsize = (8,8))\n",
        "sns.heatmap(cm,cmap= \"Pastel2_r\", linecolor = 'gray' , linewidth = 1 , annot = True, fmt='',xticklabels = labels,yticklabels = labels)"
      ]
    },
    {
      "cell_type": "code",
      "execution_count": null,
      "id": "qt6tEKCfzocC",
      "metadata": {
        "id": "qt6tEKCfzocC"
      },
      "outputs": [],
      "source": [
        "correct = np.nonzero(predictions == y_test)[0]\n",
        "incorrect = np.nonzero(predictions != y_test)[0]"
      ]
    },
    {
      "cell_type": "code",
      "execution_count": null,
      "id": "z8UXuovKz7XS",
      "metadata": {
        "colab": {
          "base_uri": "https://localhost:8080/",
          "height": 293
        },
        "id": "z8UXuovKz7XS",
        "outputId": "125e1f18-fe1a-43c0-a539-84ee6ad067f4"
      },
      "outputs": [
        {
          "data": {
            "image/png": "[encoded data removed]",
            "text/plain": [
              "<Figure size 432x288 with 6 Axes>"
            ]
          },
          "metadata": {},
          "output_type": "display_data"
        }
      ],
      "source": [
        "i = 0\n",
        "for c in correct[:6]:\n",
        "    plt.subplot(3,2,i+1)\n",
        "    plt.xticks([])\n",
        "    plt.yticks([])\n",
        "    plt.imshow(x_test[c].reshape(150,150), cmap=\"gray\", interpolation='none')\n",
        "    plt.title(\"Predicted Class {},Actual Class {}\".format(predictions[c], y_test[c]))\n",
        "    plt.tight_layout()\n",
        "    i += 1"
      ]
    },
    {
      "cell_type": "code",
      "execution_count": null,
      "id": "YtEOETEw0CBa",
      "metadata": {
        "colab": {
          "base_uri": "https://localhost:8080/",
          "height": 293
        },
        "id": "YtEOETEw0CBa",
        "outputId": "2663f40c-c4b8-4997-87a0-d1a5898f7347"
      },
      "outputs": [
        {
          "data": {
            "image/png": "[encoded data removed]",
            "text/plain": [
              "<Figure size 432x288 with 6 Axes>"
            ]
          },
          "metadata": {},
          "output_type": "display_data"
        }
      ],
      "source": [
        "i = 0\n",
        "for c in incorrect[:6]:\n",
        "    plt.subplot(3,2,i+1)\n",
        "    plt.xticks([])\n",
        "    plt.yticks([])\n",
        "    plt.imshow(x_test[c].reshape(150,150), cmap=\"gray\", interpolation='none')\n",
        "    plt.title(\"Predicted Class {},Actual Class {}\".format(predictions[c], y_test[c]))\n",
        "    plt.tight_layout()\n",
        "    i += 1"
      ]
    },
    {
      "attachments": {},
      "cell_type": "markdown",
      "id": "Nw9J7n6N9RsS",
      "metadata": {
        "id": "Nw9J7n6N9RsS"
      },
      "source": [
        "### <span style=\"color:#BF1E96\">Sample Data</span>"
      ]
    },
    {
      "cell_type": "code",
      "execution_count": null,
      "id": "FBp38rmV5s5n",
      "metadata": {
        "colab": {
          "base_uri": "https://localhost:8080/"
        },
        "id": "FBp38rmV5s5n",
        "outputId": "8c257f1e-304c-442a-b590-0f17fdea0239"
      },
      "outputs": [
        {
          "name": "stdout",
          "output_type": "stream",
          "text": [
            "Mounted at /content/drive\n"
          ]
        }
      ],
      "source": [
        "from google.colab import drive\n",
        "drive.mount('/content/drive')"
      ]
    },
    {
      "cell_type": "code",
      "execution_count": null,
      "id": "EC8kkyna0vvi",
      "metadata": {
        "id": "EC8kkyna0vvi"
      },
      "outputs": [],
      "source": [
        "path = \"/content/drive/MyDrive/OR/OR\"\n",
        "#path = os.path.join(data_dir)\n",
        "img_size = 150\n",
        "def get_sampling_data(data_dir):\n",
        "    data = []\n",
        "    for img in os.listdir(path):\n",
        "        try:\n",
        "            img_arr = cv2.imread(os.path.join(path, img), cv2.IMREAD_GRAYSCALE)\n",
        "            resized_arr = cv2.resize(img_arr, (img_size, img_size)) # 원하는 크기로 이미지 크기 변경\n",
        "            data.append(resized_arr)\n",
        "        except Exception as e:\n",
        "            print(e)\n",
        "    return np.array(data)"
      ]
    },
    {
      "cell_type": "code",
      "execution_count": null,
      "id": "Bcgq82ys3SqJ",
      "metadata": {
        "id": "Bcgq82ys3SqJ"
      },
      "outputs": [],
      "source": [
        "sample = get_sampling_data(path)"
      ]
    },
    {
      "cell_type": "code",
      "execution_count": null,
      "id": "nPz0N5uKPkCG",
      "metadata": {
        "id": "nPz0N5uKPkCG"
      },
      "outputs": [],
      "source": [
        "sample = np.array(sample) / 255"
      ]
    },
    {
      "cell_type": "code",
      "execution_count": null,
      "id": "GWf3py7OTLQM",
      "metadata": {
        "id": "GWf3py7OTLQM"
      },
      "outputs": [],
      "source": [
        "sample = sample.reshape(-1, img_size, img_size, 1) # (None,224,224,1) 형태로 reshape"
      ]
    },
    {
      "cell_type": "code",
      "execution_count": null,
      "id": "1IrsA9tu9lxA",
      "metadata": {
        "colab": {
          "base_uri": "https://localhost:8080/"
        },
        "id": "1IrsA9tu9lxA",
        "outputId": "e48571b5-983f-4359-beec-b6b840668cc3"
      },
      "outputs": [
        {
          "name": "stdout",
          "output_type": "stream",
          "text": [
            "4/4 [==============================] - 0s 56ms/step\n"
          ]
        },
        {
          "data": {
            "text/plain": [
              "array([1, 1, 0, 0, 0, 1, 0, 0, 0, 1, 1, 1, 0, 0, 0], dtype=int32)"
            ]
          },
          "execution_count": 38,
          "metadata": {},
          "output_type": "execute_result"
        }
      ],
      "source": [
        "predicted_S = (model.predict(sample) > 0.5).astype(\"int32\")\n",
        "predictions_sample = predicted_S.reshape(1,-1)[0]\n",
        "\n",
        "predictions_sample[:15]"
      ]
    },
    {
      "cell_type": "code",
      "execution_count": null,
      "id": "a3a6a65c",
      "metadata": {
        "colab": {
          "base_uri": "https://localhost:8080/"
        },
        "id": "a3a6a65c",
        "outputId": "d6a40aa3-3f89-4a3c-82b1-61942cd6c515"
      },
      "outputs": [
        {
          "name": "stdout",
          "output_type": "stream",
          "text": [
            "67\n"
          ]
        }
      ],
      "source": [
        "final_score = 0\n",
        "for i in range(len(predictions_sample)):\n",
        "    if i <50:\n",
        "        if predictions_sample[i] == 0:\n",
        "            final_score += 1\n",
        "    else:\n",
        "        if predictions_sample[i] == 1:\n",
        "            final_score += 1\n",
        "print(final_score)"
      ]
    },
    {
      "cell_type": "code",
      "execution_count": null,
      "id": "d8sL0eH60MbS",
      "metadata": {
        "colab": {
          "base_uri": "https://localhost:8080/"
        },
        "id": "d8sL0eH60MbS",
        "outputId": "f972b834-3226-4ec9-ccf1-7e76e79b88ae"
      },
      "outputs": [
        {
          "data": {
            "text/plain": [
              "array([1, 1, 0, 0, 0, 1, 0, 0, 0, 1, 1, 1, 0, 0, 0, 1, 0, 0, 0, 0, 0, 0,\n",
              "       0, 1, 0, 0, 0, 1, 0, 0, 0, 1, 0, 0, 0, 0, 0, 0, 0, 0, 1, 1, 0, 1,\n",
              "       0, 1, 0, 0, 1, 1, 1, 0, 0, 0, 0, 0, 1, 1, 1, 0, 0, 1, 0, 0, 0, 1,\n",
              "       1, 0, 0, 0, 0, 1, 1, 0, 1, 1, 1, 1, 1, 0, 1, 1, 1, 1, 1, 0, 1, 1,\n",
              "       1, 1, 1, 1, 1, 1, 1, 1, 1, 1, 1, 1], dtype=int32)"
            ]
          },
          "execution_count": 40,
          "metadata": {},
          "output_type": "execute_result"
        }
      ],
      "source": [
        "predictions_sample"
      ]
    }
  ],
  "metadata": {
    "accelerator": "GPU",
    "colab": {
      "provenance": []
    },
    "gpuClass": "standard",
    "kernelspec": {
      "display_name": "Python 3 (ipykernel)",
      "language": "python",
      "name": "python3"
    },
    "language_info": {
      "codemirror_mode": {
        "name": "ipython",
        "version": 3
      },
      "file_extension": ".py",
      "mimetype": "text/x-python",
      "name": "python",
      "nbconvert_exporter": "python",
      "pygments_lexer": "ipython3",
      "version": "3.9.13"
    }
  },
  "nbformat": 4,
  "nbformat_minor": 5
}
